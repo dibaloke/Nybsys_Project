{
 "cells": [
  {
   "cell_type": "code",
   "execution_count": 2,
   "id": "ebb78e76-018c-4fcb-862f-8ac2fa084f00",
   "metadata": {},
   "outputs": [],
   "source": [
    "import pixellib\n",
    "from pixellib.tune_bg import alter_bg\n",
    "\n",
    "change_bg = alter_bg(model_type = \"pb\")\n",
    "change_bg.load_pascalvoc_model(\"xception_pascalvoc.pb\")"
   ]
  },
  {
   "cell_type": "code",
   "execution_count": 3,
   "id": "fe059653-b107-4d8d-890e-834b34f2b596",
   "metadata": {},
   "outputs": [
    {
     "name": "stdin",
     "output_type": "stream",
     "text": [
      "Input Target Class:  \n",
      " Available classes \n",
      " --------- \n",
      " person \n",
      " bus \n",
      " car \n",
      " aeroplane \n",
      " bicycle \n",
      " motorbike \n",
      " bird \n",
      " boat \n",
      " bottle \n",
      " cat \n",
      " chair \n",
      " cow \n",
      " dinningtable \n",
      " dog \n",
      " horse \n",
      " pottedplant \n",
      " sheep \n",
      " sofa \n",
      " train \n",
      " tv \n",
      "  person\n"
     ]
    }
   ],
   "source": [
    "target_class = input('Input Target Class:  \\n Available classes \\n --------- \\n person \\n bus \\n car \\n aeroplane \\n bicycle \\n motorbike \\n bird \\n boat \\n bottle \\n cat \\n chair \\n cow \\n dinningtable \\n dog \\n horse \\n pottedplant \\n sheep \\n sofa \\n train \\n tv \\n ')\n"
   ]
  },
  {
   "cell_type": "code",
   "execution_count": 4,
   "id": "1be99466-7bfb-4f0b-a732-41a73ac0d603",
   "metadata": {
    "tags": []
   },
   "outputs": [
    {
     "data": {
      "text/plain": [
       "array([[[236, 222, 226],\n",
       "        [236, 222, 226],\n",
       "        [236, 222, 226],\n",
       "        ...,\n",
       "        [217, 200, 204],\n",
       "        [217, 200, 204],\n",
       "        [217, 200, 204]],\n",
       "\n",
       "       [[236, 222, 226],\n",
       "        [236, 222, 226],\n",
       "        [236, 222, 226],\n",
       "        ...,\n",
       "        [217, 200, 204],\n",
       "        [217, 200, 204],\n",
       "        [217, 200, 204]],\n",
       "\n",
       "       [[236, 222, 226],\n",
       "        [236, 222, 226],\n",
       "        [236, 222, 226],\n",
       "        ...,\n",
       "        [217, 200, 204],\n",
       "        [217, 200, 204],\n",
       "        [217, 200, 204]],\n",
       "\n",
       "       ...,\n",
       "\n",
       "       [[ 17,   4,   7],\n",
       "        [ 17,   4,   7],\n",
       "        [ 18,   4,   7],\n",
       "        ...,\n",
       "        [ 63,  56,  59],\n",
       "        [ 63,  56,  59],\n",
       "        [ 63,  56,  59]],\n",
       "\n",
       "       [[ 17,   4,   7],\n",
       "        [ 17,   4,   7],\n",
       "        [ 18,   4,   7],\n",
       "        ...,\n",
       "        [ 63,  56,  59],\n",
       "        [ 63,  56,  59],\n",
       "        [ 63,  56,  59]],\n",
       "\n",
       "       [[ 17,   4,   7],\n",
       "        [ 17,   4,   7],\n",
       "        [ 17,   4,   7],\n",
       "        ...,\n",
       "        [ 63,  56,  59],\n",
       "        [ 63,  56,  59],\n",
       "        [ 63,  56,  59]]], dtype=uint8)"
      ]
     },
     "execution_count": 4,
     "metadata": {},
     "output_type": "execute_result"
    }
   ],
   "source": [
    "change_bg.blur_bg(\"sample.jpeg\", low = True, output_image_name=\"blur_img.jpg\",detect=target_class)"
   ]
  },
  {
   "cell_type": "code",
   "execution_count": null,
   "id": "1e44bc35-c709-486f-86f4-f9c135bb227d",
   "metadata": {},
   "outputs": [],
   "source": []
  }
 ],
 "metadata": {
  "kernelspec": {
   "display_name": "lm",
   "language": "python",
   "name": "lm"
  },
  "language_info": {
   "codemirror_mode": {
    "name": "ipython",
    "version": 3
   },
   "file_extension": ".py",
   "mimetype": "text/x-python",
   "name": "python",
   "nbconvert_exporter": "python",
   "pygments_lexer": "ipython3",
   "version": "3.8.8"
  }
 },
 "nbformat": 4,
 "nbformat_minor": 5
}
