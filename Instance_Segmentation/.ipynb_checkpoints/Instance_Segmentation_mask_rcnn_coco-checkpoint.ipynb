{
 "cells": [
  {
   "cell_type": "code",
   "execution_count": 35,
   "id": "5aaf27c4-e9e8-4630-b17c-8fc2e740ee0b",
   "metadata": {},
   "outputs": [],
   "source": [
    "#Import Core packages\n",
    "\n",
    "import pixellib\n",
    "from pixellib.instance import instance_segmentation"
   ]
  },
  {
   "cell_type": "code",
   "execution_count": 36,
   "id": "326a7ab8-40d2-4c4f-8429-bc083f9a393b",
   "metadata": {},
   "outputs": [],
   "source": [
    "#Import Other packages\n",
    "\n",
    "import os\n",
    "import cv2"
   ]
  },
  {
   "cell_type": "code",
   "execution_count": 37,
   "id": "25adcbf4-bcec-49f1-b0ff-997f34bcf862",
   "metadata": {},
   "outputs": [],
   "source": [
    "# Loading pre-trained Model for instance segmentation\n",
    "segmentation_model = instance_segmentation()\n",
    "segmentation_model.load_model('mask_rcnn_coco.h5')"
   ]
  },
  {
   "cell_type": "code",
   "execution_count": 56,
   "id": "95f5b6a1-f867-4b6d-bc80-4d7ae9169f9f",
   "metadata": {
    "tags": []
   },
   "outputs": [],
   "source": [
    "# Define Input Image path and Output Image path\n",
    "\n",
    "input_images_folder_path = './Input_Images'\n",
    "output_images_folder_path = './Output_Images'"
   ]
  },
  {
   "cell_type": "code",
   "execution_count": 57,
   "id": "edf0adb4-900a-4497-ae82-c351b5343586",
   "metadata": {},
   "outputs": [],
   "source": [
    "# Iterate through Input Image Path to get Input Image Paths \n",
    "\n",
    "input_file_paths=[]\n",
    "\n",
    "for filename in os.listdir(input_images_folder_path):\n",
    "    f = os.path.join(input_images_folder_path, filename)\n",
    "    # checking if it is a file\n",
    "    if os.path.isfile(f):\n",
    "        input_file_paths.append(f)"
   ]
  },
  {
   "cell_type": "code",
   "execution_count": 58,
   "id": "976bed82-7f59-4960-90a9-a2ad51c2f401",
   "metadata": {},
   "outputs": [
    {
     "data": {
      "text/plain": [
       "['./Input_Images/ade_test1.jpeg',\n",
       " './Input_Images/speed_sample.jpeg',\n",
       " './Input_Images/p05h7mv1.jpeg',\n",
       " './Input_Images/MA25CITY-TRAFFIC.jpeg',\n",
       " './Input_Images/github.jpeg',\n",
       " './Input_Images/sample2.jpeg',\n",
       " './Input_Images/bed1.jpeg']"
      ]
     },
     "execution_count": 58,
     "metadata": {},
     "output_type": "execute_result"
    }
   ],
   "source": [
    "input_file_paths"
   ]
  },
  {
   "cell_type": "code",
   "execution_count": 59,
   "id": "fa769828-8f41-4ca2-8cb9-be7267f2fa40",
   "metadata": {},
   "outputs": [],
   "source": [
    "# Generate Instance Segmented Output file for each input Images \n",
    "# and Writing them to the output directory\n",
    "\n",
    "for input_file in input_file_paths:\n",
    "    res = segmentation_model.segmentFrame(cv2.imread(input_file), show_bboxes=True)\n",
    "    output_image = res[1]\n",
    "    cv2.imwrite(os.path.join(output_images_folder_path,input_file.split('/')[-1]),output_image)"
   ]
  },
  {
   "cell_type": "code",
   "execution_count": null,
   "id": "ac7991fd-eb84-40a9-bce6-a69533b2a230",
   "metadata": {},
   "outputs": [],
   "source": []
  }
 ],
 "metadata": {
  "kernelspec": {
   "display_name": "lm",
   "language": "python",
   "name": "lm"
  },
  "language_info": {
   "codemirror_mode": {
    "name": "ipython",
    "version": 3
   },
   "file_extension": ".py",
   "mimetype": "text/x-python",
   "name": "python",
   "nbconvert_exporter": "python",
   "pygments_lexer": "ipython3",
   "version": "3.8.8"
  }
 },
 "nbformat": 4,
 "nbformat_minor": 5
}
